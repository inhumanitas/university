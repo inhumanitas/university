{
 "cells": [
  {
   "cell_type": "code",
   "execution_count": 2,
   "metadata": {
    "collapsed": true
   },
   "outputs": [],
   "source": [
    "from minobr.people import PeopleOccupation\n",
    "from minobr.university.faculty import Faculty, FacultyTypes, FacultyManagement\n",
    "from minobr.university.group import Group, Student\n",
    "from minobr.university.staff import StaffType, Teacher\n",
    "from minobr.university.semestr import Semester\n",
    "from minobr.university.topics import Topic\n",
    "from minobr.university.university import University"
   ]
  },
  {
   "cell_type": "markdown",
   "metadata": {},
   "source": [
    "# Lets create test university"
   ]
  },
  {
   "cell_type": "markdown",
   "metadata": {},
   "source": [
    "#### Create university. Two faculties. Three groups "
   ]
  },
  {
   "cell_type": "code",
   "execution_count": 3,
   "metadata": {
    "collapsed": true
   },
   "outputs": [],
   "source": [
    "u1 = University()\n",
    "f1 = Faculty('Test Tech Faculty', FacultyTypes.tech)\n",
    "f2 = Faculty('Test Tech Faculty 2', FacultyTypes.hum)\n",
    "g1 = Group('Test group1')\n",
    "g2 = Group('Test group2')\n",
    "g3 = Group('Test group3')"
   ]
  },
  {
   "cell_type": "markdown",
   "metadata": {},
   "source": [
    "#### Append all objects"
   ]
  },
  {
   "cell_type": "code",
   "execution_count": 4,
   "metadata": {
    "collapsed": true
   },
   "outputs": [],
   "source": [
    "f1.add_group(g1)\n",
    "f2.add_group(g2)\n",
    "f2.add_group(g3)\n",
    "u1.add(f1)\n",
    "u1.add(f2)"
   ]
  },
  {
   "cell_type": "markdown",
   "metadata": {},
   "source": [
    "#### Add any students to groups"
   ]
  },
  {
   "cell_type": "code",
   "execution_count": 5,
   "metadata": {
    "collapsed": true
   },
   "outputs": [],
   "source": [
    "for i in range(1000):\n",
    "    if i < 500:\n",
    "        g = g1\n",
    "    elif 500 < i < 800:\n",
    "        g = g2\n",
    "    else:\n",
    "        g = g3\n",
    "    p = Student(f1, g, name='test_'+unicode(i))\n",
    "    p.add_employment(PeopleOccupation.student, '1st grade')\n",
    "    g.add(p)\n"
   ]
  },
  {
   "cell_type": "markdown",
   "metadata": {},
   "source": [
    "#### Lets see what we have"
   ]
  },
  {
   "cell_type": "code",
   "execution_count": 6,
   "metadata": {},
   "outputs": [
    {
     "name": "stdout",
     "output_type": "stream",
     "text": [
      "<Faculty humanitarian> Test Tech Faculty 2 [<Group Test group2> population: 299, <Group Test group3> population: 201]\n",
      "<Faculty technical> Test Tech Faculty [<Group Test group1> population: 500]\n"
     ]
    }
   ],
   "source": [
    "u1.list()\n",
    "print '\\n'.join([unicode(f)+' '+unicode(g) for f,g in [(f,f.groups) for f in u1.list()]])"
   ]
  },
  {
   "cell_type": "markdown",
   "metadata": {},
   "source": [
    "#### Add staff to faculty"
   ]
  },
  {
   "cell_type": "code",
   "execution_count": 7,
   "metadata": {},
   "outputs": [
    {
     "data": {
      "text/plain": [
       "[]"
      ]
     },
     "execution_count": 7,
     "metadata": {},
     "output_type": "execute_result"
    }
   ],
   "source": [
    "f1.staff()[StaffType.teachers].list()"
   ]
  },
  {
   "cell_type": "code",
   "execution_count": 8,
   "metadata": {},
   "outputs": [
    {
     "name": "stdout",
     "output_type": "stream",
     "text": [
      "<Teacher> Sam <Teacher> Dean\n"
     ]
    }
   ],
   "source": [
    "t1 = Teacher(name='Sam', last_name='Osbourne', knowledge_area='math')\n",
    "dean = Teacher(name='Dean', last_name='Osbourne', knowledge_area='manager')\n",
    "f1.hire(StaffType.management, dean, 'dean') #  hack, head manager should set manualy\n",
    "print t1, dean"
   ]
  },
  {
   "cell_type": "code",
   "execution_count": 9,
   "metadata": {
    "collapsed": true
   },
   "outputs": [],
   "source": [
    "f_mngr = FacultyManagement(f1)\n",
    "f_mngr.set_manager(dean)\n",
    "f_mngr.hire(StaffType.teachers, t1, position='math_teacher')"
   ]
  },
  {
   "cell_type": "code",
   "execution_count": 10,
   "metadata": {},
   "outputs": [
    {
     "data": {
      "text/plain": [
       "[<Teacher> Sam]"
      ]
     },
     "execution_count": 10,
     "metadata": {},
     "output_type": "execute_result"
    }
   ],
   "source": [
    "f1.staff()[StaffType.teachers].list()"
   ]
  },
  {
   "cell_type": "code",
   "execution_count": 11,
   "metadata": {},
   "outputs": [
    {
     "ename": "NameError",
     "evalue": "name 's' is not defined",
     "output_type": "error",
     "traceback": [
      "\u001b[0;31m---------------------------------------------------------------------------\u001b[0m",
      "\u001b[0;31mNameError\u001b[0m                                 Traceback (most recent call last)",
      "\u001b[0;32m<ipython-input-11-fd84a0834f89>\u001b[0m in \u001b[0;36m<module>\u001b[0;34m()\u001b[0m\n\u001b[0;32m----> 1\u001b[0;31m \u001b[0msemester\u001b[0m \u001b[0;34m=\u001b[0m \u001b[0mSemester\u001b[0m\u001b[0;34m(\u001b[0m\u001b[0mcourse\u001b[0m\u001b[0;34m=\u001b[0m\u001b[0;36m1\u001b[0m\u001b[0;34m,\u001b[0m \u001b[0mnumber\u001b[0m\u001b[0;34m=\u001b[0m\u001b[0;36m1\u001b[0m\u001b[0;34m,\u001b[0m \u001b[0mfaculty\u001b[0m\u001b[0;34m=\u001b[0m\u001b[0mf1\u001b[0m\u001b[0;34m)\u001b[0m\u001b[0;34m;\u001b[0m \u001b[0;32mprint\u001b[0m \u001b[0ms\u001b[0m\u001b[0;34m\u001b[0m\u001b[0m\n\u001b[0m",
      "\u001b[0;31mNameError\u001b[0m: name 's' is not defined"
     ]
    }
   ],
   "source": [
    "semester = Semester(course=1, number=1, faculty=f1); print s"
   ]
  },
  {
   "cell_type": "code",
   "execution_count": 12,
   "metadata": {},
   "outputs": [
    {
     "data": {
      "text/plain": [
       "[<minobr.university.semestr.Semester at 0x7fd0e8462a90>]"
      ]
     },
     "execution_count": 12,
     "metadata": {},
     "output_type": "execute_result"
    }
   ],
   "source": [
    "f1.add_semester(semester); f1.semesters"
   ]
  },
  {
   "cell_type": "code",
   "execution_count": 13,
   "metadata": {
    "collapsed": true
   },
   "outputs": [],
   "source": [
    "TOPICS = [\n",
    "    {'math': ['algebra', 'mathan', 'geometry']},\n",
    "    {'lang': ['Russian', 'English']},\n",
    "]\n",
    "s_topics = [Topic(t_name, t1) for t_name in TOPICS[0]['math']]\n",
    "for topic in s_topics:\n",
    "    semester.add_topic(topic)"
   ]
  },
  {
   "cell_type": "code",
   "execution_count": 14,
   "metadata": {
    "collapsed": true
   },
   "outputs": [],
   "source": [
    "#### Create students and enroll to topic"
   ]
  },
  {
   "cell_type": "code",
   "execution_count": 18,
   "metadata": {},
   "outputs": [
    {
     "name": "stdout",
     "output_type": "stream",
     "text": [
      "set([<minobr.university.semestr.Enrollment object at 0x7fd0e831a890>, <minobr.university.semestr.Enrollment object at 0x7fd0e831aed0>])\n"
     ]
    }
   ],
   "source": [
    "student1 = Student(faculty=f1, group=g1, name='Lian')\n",
    "g1.add(student1)\n",
    "semester.enroll(student1, s_topics[:len(s_topics)/2]); print semester.enrollments"
   ]
  },
  {
   "cell_type": "code",
   "execution_count": null,
   "metadata": {},
   "outputs": [],
   "source": [
    "\n"
   ]
  },
  {
   "cell_type": "code",
   "execution_count": null,
   "metadata": {
    "collapsed": true
   },
   "outputs": [],
   "source": []
  },
  {
   "cell_type": "code",
   "execution_count": null,
   "metadata": {
    "collapsed": true
   },
   "outputs": [],
   "source": []
  }
 ],
 "metadata": {
  "kernelspec": {
   "display_name": "Python 2",
   "language": "python",
   "name": "python2"
  },
  "language_info": {
   "codemirror_mode": {
    "name": "ipython",
    "version": 2
   },
   "file_extension": ".py",
   "mimetype": "text/x-python",
   "name": "python",
   "nbconvert_exporter": "python",
   "pygments_lexer": "ipython2",
   "version": "2.7.13"
  }
 },
 "nbformat": 4,
 "nbformat_minor": 1
}
