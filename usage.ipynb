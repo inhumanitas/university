{
 "cells": [
  {
   "cell_type": "code",
   "execution_count": 1,
   "metadata": {
    "collapsed": true
   },
   "outputs": [],
   "source": [
    "from minobr.people import PeopleOccupation\n",
    "from minobr.university.faculty import Faculty, FacultyTypes, FacultyManagement\n",
    "from minobr.university.group import Group, Student\n",
    "from minobr.university.staff import StaffType, Teacher\n",
    "from minobr.university.semestr import Semester, SemesterException\n",
    "from minobr.university.topics import Topic\n",
    "from minobr.university.university import University"
   ]
  },
  {
   "cell_type": "markdown",
   "metadata": {},
   "source": [
    "# Lets create test university"
   ]
  },
  {
   "cell_type": "markdown",
   "metadata": {},
   "source": [
    "### Create university. Two faculties. Three groups "
   ]
  },
  {
   "cell_type": "code",
   "execution_count": 2,
   "metadata": {
    "collapsed": true
   },
   "outputs": [],
   "source": [
    "u1 = University()\n",
    "f1 = Faculty('Test Tech Faculty', FacultyTypes.tech)\n",
    "f2 = Faculty('Test Tech Faculty 2', FacultyTypes.hum)\n",
    "g1 = Group('Test group1')\n",
    "g2 = Group('Test group2')\n",
    "g3 = Group('Test group3')"
   ]
  },
  {
   "cell_type": "markdown",
   "metadata": {},
   "source": [
    "### Append all objects"
   ]
  },
  {
   "cell_type": "code",
   "execution_count": 3,
   "metadata": {
    "collapsed": true
   },
   "outputs": [],
   "source": [
    "f1.add_group(g1)\n",
    "f2.add_group(g2)\n",
    "f2.add_group(g3)\n",
    "u1.add(f1)\n",
    "u1.add(f2)"
   ]
  },
  {
   "cell_type": "markdown",
   "metadata": {},
   "source": [
    "### Add any students to groups"
   ]
  },
  {
   "cell_type": "code",
   "execution_count": 4,
   "metadata": {
    "collapsed": true
   },
   "outputs": [],
   "source": [
    "for i in range(1000):\n",
    "    if i < 500:\n",
    "        g = g1\n",
    "    elif 500 < i < 800:\n",
    "        g = g2\n",
    "    else:\n",
    "        g = g3\n",
    "    p = Student(f1, g, name='test_'+unicode(i))\n",
    "    p.add_employment(PeopleOccupation.student, '1st grade')\n",
    "    g.add(p)\n"
   ]
  },
  {
   "cell_type": "markdown",
   "metadata": {},
   "source": [
    "### Lets see what we have"
   ]
  },
  {
   "cell_type": "code",
   "execution_count": 5,
   "metadata": {},
   "outputs": [
    {
     "name": "stdout",
     "output_type": "stream",
     "text": [
      "<Faculty humanitarian> Test Tech Faculty 2 [<Group Test group2> population: 299, <Group Test group3> population: 201]\n",
      "<Faculty technical> Test Tech Faculty [<Group Test group1> population: 500]\n"
     ]
    }
   ],
   "source": [
    "u1.list()\n",
    "print '\\n'.join([unicode(f)+' '+unicode(g) for f,g in [(f,f.groups) for f in u1.list()]])"
   ]
  },
  {
   "cell_type": "markdown",
   "metadata": {},
   "source": [
    "### Add staff to faculty"
   ]
  },
  {
   "cell_type": "code",
   "execution_count": 6,
   "metadata": {},
   "outputs": [
    {
     "data": {
      "text/plain": [
       "[]"
      ]
     },
     "execution_count": 6,
     "metadata": {},
     "output_type": "execute_result"
    }
   ],
   "source": [
    "f1.staff()[StaffType.teachers].list()"
   ]
  },
  {
   "cell_type": "code",
   "execution_count": 7,
   "metadata": {},
   "outputs": [
    {
     "name": "stdout",
     "output_type": "stream",
     "text": [
      "<Teacher> Sam <Teacher> Dean\n"
     ]
    }
   ],
   "source": [
    "t1 = Teacher(name='Sam', last_name='Osbourne', knowledge_area='math')\n",
    "dean = Teacher(name='Dean', last_name='Osbourne', knowledge_area='manager')\n",
    "f1.hire(StaffType.management, dean, 'dean') #  hack, head manager should set manualy\n",
    "print t1, dean"
   ]
  },
  {
   "cell_type": "code",
   "execution_count": 8,
   "metadata": {
    "collapsed": true
   },
   "outputs": [],
   "source": [
    "f_mngr = FacultyManagement(f1)\n",
    "f_mngr.set_manager(dean)\n",
    "f_mngr.hire(StaffType.teachers, t1, position='math_teacher')"
   ]
  },
  {
   "cell_type": "code",
   "execution_count": 9,
   "metadata": {},
   "outputs": [
    {
     "data": {
      "text/plain": [
       "[<Teacher> Sam]"
      ]
     },
     "execution_count": 9,
     "metadata": {},
     "output_type": "execute_result"
    }
   ],
   "source": [
    "f1.staff()[StaffType.teachers].list()"
   ]
  },
  {
   "cell_type": "code",
   "execution_count": 10,
   "metadata": {},
   "outputs": [
    {
     "name": "stdout",
     "output_type": "stream",
     "text": [
      "<minobr.university.semestr.Semester object at 0x7f625c640e50>\n"
     ]
    }
   ],
   "source": [
    "semester = Semester(course=1, number=1, faculty=f1); print semester"
   ]
  },
  {
   "cell_type": "code",
   "execution_count": 11,
   "metadata": {},
   "outputs": [
    {
     "data": {
      "text/plain": [
       "[<minobr.university.semestr.Semester at 0x7f625c640e50>]"
      ]
     },
     "execution_count": 11,
     "metadata": {},
     "output_type": "execute_result"
    }
   ],
   "source": [
    "f1.add_semester(semester); f1.semesters"
   ]
  },
  {
   "cell_type": "code",
   "execution_count": 12,
   "metadata": {
    "collapsed": true
   },
   "outputs": [],
   "source": [
    "TOPICS = [\n",
    "    {'math': ['algebra', 'mathan', 'geometry', 'discret_math', 'high_math']},\n",
    "    {'lang': ['Russian', 'English']},\n",
    "]\n",
    "s_topics = [Topic(t_name, t1) for t_name in TOPICS[0]['math']]\n",
    "for topic in s_topics:\n",
    "    semester.add_topic(topic)"
   ]
  },
  {
   "cell_type": "markdown",
   "metadata": {
    "collapsed": true
   },
   "source": [
    "### Create students and enroll to semester"
   ]
  },
  {
   "cell_type": "code",
   "execution_count": 13,
   "metadata": {},
   "outputs": [
    {
     "name": "stdout",
     "output_type": "stream",
     "text": [
      "set([<minobr.university.semestr.Enrollment object at 0x7f625c5dd610>, <minobr.university.semestr.Enrollment object at 0x7f625c5e3190>])\n",
      "\n",
      "Try to enroll less than 80% of semesters topics\n",
      "Exception:  You must select topics from semester\n"
     ]
    }
   ],
   "source": [
    "student1 = Student(faculty=f1, group=g1, name='Lian')\n",
    "student2 = Student(faculty=f1, group=g1, name='Mark')\n",
    "g1.add(student1)\n",
    "semester.enroll(student1, s_topics[:len(s_topics)/2])\n",
    "g1.add(student2)\n",
    "semester.enroll(student2, s_topics[:len(s_topics)/2])\n",
    "print semester.enrollments\n",
    "print\n",
    "print \"Try to enroll less than 80% of semesters topics\"\n",
    "try:\n",
    "    semester.enroll(student2, ['algebra'])\n",
    "except SemesterException as e:\n",
    "    print 'Exception: ', e"
   ]
  },
  {
   "cell_type": "markdown",
   "metadata": {
    "collapsed": true
   },
   "source": [
    "### Change topic teacher\n"
   ]
  },
  {
   "cell_type": "code",
   "execution_count": 14,
   "metadata": {},
   "outputs": [
    {
     "name": "stdout",
     "output_type": "stream",
     "text": [
      "<Topic> algebra by <Teacher> Sam\n",
      "<Topic> algebra by <Teacher> Alex\n",
      "<Topic> algebra by <Teacher> Alex ; <Teacher> Kate is not applied, different knowledge area\n"
     ]
    }
   ],
   "source": [
    "teacher2 = Teacher(name='Alex', last_name='Osbourne', knowledge_area='math')\n",
    "teacher3 = Teacher(name='Kate', last_name='Osbourne', knowledge_area='lang')\n",
    "topic = s_topics[0]\n",
    "print topic\n",
    "f_mngr.change_topic_teacher(topic, teacher2)\n",
    "print topic\n",
    "f_mngr.change_topic_teacher(topic, teacher3)\n",
    "print topic, ';', teacher3, \"is not applied, different knowledge area\" "
   ]
  },
  {
   "cell_type": "markdown",
   "metadata": {
    "collapsed": true
   },
   "source": [
    "### new topic enrollment date is set by teacher"
   ]
  },
  {
   "cell_type": "code",
   "execution_count": 15,
   "metadata": {},
   "outputs": [
    {
     "name": "stdout",
     "output_type": "stream",
     "text": [
      "defaultdict(<type 'list'>, {u'<Topic> algebra by <Teacher> Alex': [<minobr.university.group.Schedule object at 0x7f62613e7190>]})\n"
     ]
    }
   ],
   "source": [
    "import datetime\n",
    "topic_enroll_date = datetime.datetime.now()\n",
    "teacher2.schedule_topic(g1, topic_enroll_date, topic)\n",
    "print g1.get_timetable()\n"
   ]
  },
  {
   "cell_type": "markdown",
   "metadata": {},
   "source": [
    "### After lesson finished, teacher checks who is enrolled"
   ]
  },
  {
   "cell_type": "code",
   "execution_count": 16,
   "metadata": {},
   "outputs": [
    {
     "name": "stdout",
     "output_type": "stream",
     "text": [
      "True False\n"
     ]
    }
   ],
   "source": [
    "not_attended_student = student2\n",
    "schedule_obj = teacher2.set_attending(g1, topic_enroll_date, topic, [student1], [not_attended_student])\n",
    "print schedule_obj.is_attended(student1) == topic_enroll_date, schedule_obj.is_attended(student2) == topic_enroll_date\n",
    "schedule_obj = teacher2.set_attending(g1, datetime.datetime.now(), topic, [student1], [not_attended_student])"
   ]
  },
  {
   "cell_type": "code",
   "execution_count": 17,
   "metadata": {},
   "outputs": [
    {
     "name": "stdout",
     "output_type": "stream",
     "text": [
      "[<Student> Mark] True\n"
     ]
    }
   ],
   "source": [
    "print f_mngr.students_to_fire(), not_attended_student in f_mngr.students_to_fire() "
   ]
  },
  {
   "cell_type": "code",
   "execution_count": 18,
   "metadata": {},
   "outputs": [
    {
     "data": {
      "text/plain": [
       "[[<Student> Mark], [<Student> Mark]]"
      ]
     },
     "execution_count": 18,
     "metadata": {},
     "output_type": "execute_result"
    }
   ],
   "source": [
    "[sch.student_skipped for sch in g1.get_schedules(topic_enroll_date, topic)]"
   ]
  }
 ],
 "metadata": {
  "kernelspec": {
   "display_name": "Python 2",
   "language": "python",
   "name": "python2"
  },
  "language_info": {
   "codemirror_mode": {
    "name": "ipython",
    "version": 2
   },
   "file_extension": ".py",
   "mimetype": "text/x-python",
   "name": "python",
   "nbconvert_exporter": "python",
   "pygments_lexer": "ipython2",
   "version": "2.7.13"
  }
 },
 "nbformat": 4,
 "nbformat_minor": 1
}
